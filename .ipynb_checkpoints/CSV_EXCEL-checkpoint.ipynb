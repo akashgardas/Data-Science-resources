{
 "cells": [
  {
   "cell_type": "markdown",
   "id": "0d315139-e34a-4275-9fc9-8c66230dd977",
   "metadata": {},
   "source": [
    "# CSV through Excel"
   ]
  },
  {
   "cell_type": "code",
   "execution_count": 1,
   "id": "3f238c39-8d04-4510-9d02-709b1e32d669",
   "metadata": {},
   "outputs": [
    {
     "data": {
      "text/plain": [
       "'C:\\\\Users\\\\GARDAS AKASH\\\\OneDrive\\\\Documents\\\\Data Science'"
      ]
     },
     "execution_count": 1,
     "metadata": {},
     "output_type": "execute_result"
    }
   ],
   "source": [
    "import os\n",
    "os.getcwd()"
   ]
  },
  {
   "cell_type": "code",
   "execution_count": 2,
   "id": "9e007082-83e3-4d72-8c28-1cbb1acc667a",
   "metadata": {},
   "outputs": [],
   "source": [
    "# to change directory\n",
    "# os.chdir() "
   ]
  },
  {
   "cell_type": "code",
   "execution_count": 27,
   "id": "268ef5a5-19ab-4468-a23a-a9f19ec69730",
   "metadata": {},
   "outputs": [],
   "source": [
    "import csv"
   ]
  },
  {
   "cell_type": "code",
   "execution_count": 29,
   "id": "5c4ff51c-17b1-4aab-9dec-1596654715cd",
   "metadata": {},
   "outputs": [
    {
     "name": "stdout",
     "output_type": "stream",
     "text": [
      "{'eno': '1', 'ename': 'a', 'sal': '25000', 'dept': 'fin'}\n",
      "{'eno': '2', 'ename': 'b', 'sal': '30000', 'dept': 'hr'}\n",
      "{'eno': '3', 'ename': 'c', 'sal': '28000', 'dept': 'mark'}\n",
      "{'eno': '4', 'ename': 'd', 'sal': '29000', 'dept': 'fin'}\n",
      "{'eno': '5', 'ename': 'e', 'sal': '30500', 'dept': 'hr'}\n",
      "{'eno': '6', 'ename': 'f', 'sal': '31500', 'dept': 'mark'}\n",
      "{'eno': '7', 'ename': 'g', 'sal': '32500', 'dept': 'mark'}\n",
      "{'eno': '8', 'ename': 'h', 'sal': '33500', 'dept': 'mark'}\n",
      "{'eno': '9', 'ename': 'i', 'sal': '34500', 'dept': 'fin'}\n",
      "{'eno': '10', 'ename': 'j', 'sal': '35500', 'dept': 'hr'}\n",
      "{'eno': '11', 'ename': 'k', 'sal': '36500', 'dept': 'fin'}\n",
      "{'eno': '12', 'ename': 'l', 'sal': '37500', 'dept': 'fin'}\n",
      "{'eno': '13', 'ename': 'o', 'sal': '38500', 'dept': 'mark'}\n",
      "{'eno': '14', 'ename': 'p', 'sal': '39500', 'dept': 'mark'}\n",
      "{'eno': '15', 'ename': 'q', 'sal': '40500', 'dept': 'fin'}\n",
      "{'eno': '16', 'ename': 'r', 'sal': '41500', 'dept': 'hr'}\n",
      "{'eno': '17', 'ename': 's', 'sal': '42500', 'dept': 'mark'}\n",
      "{'eno': '18', 'ename': 't', 'sal': '43500', 'dept': 'fin'}\n",
      "{'eno': '19', 'ename': 'u', 'sal': '44500', 'dept': 'mark'}\n",
      "{'eno': '20', 'ename': 'v', 'sal': '45500', 'dept': 'fin'}\n"
     ]
    }
   ],
   "source": [
    "fp = open('empdata.csv', 'r')\n",
    "data = csv.DictReader(fp)\n",
    "for row in data:\n",
    "    print(row)\n",
    "fp.close()"
   ]
  },
  {
   "cell_type": "code",
   "execution_count": 30,
   "id": "29b6b9ea-4952-4f76-9242-7f8e391f6081",
   "metadata": {},
   "outputs": [
    {
     "data": {
      "text/plain": [
       "(4, 8, 8)"
      ]
     },
     "execution_count": 30,
     "metadata": {},
     "output_type": "execute_result"
    }
   ],
   "source": [
    "fp = open('empdata.csv', 'r')\n",
    "data = csv.DictReader(fp)\n",
    "\n",
    "# segregating the data\n",
    "# Q: dept wise count\n",
    "hc = [] # hr\n",
    "fc = [] # fin\n",
    "mc = [] # mark\n",
    "for row in data:\n",
    "    dname = row.get('dept')\n",
    "    ename = row.get('ename')\n",
    "    if dname == 'hr':\n",
    "        hc.append(ename)\n",
    "    elif dname == 'fin':\n",
    "        fc.append(ename)\n",
    "    else:\n",
    "        mc.append(ename)\n",
    "fp.close()\n",
    "\n",
    "len(hc), len(fc), len(mc)"
   ]
  },
  {
   "cell_type": "code",
   "execution_count": 32,
   "id": "5a20a82f-39f7-48ae-8da1-f663df5b37ea",
   "metadata": {},
   "outputs": [
    {
     "data": {
      "text/plain": [
       "('41500', '45500', '44500')"
      ]
     },
     "execution_count": 32,
     "metadata": {},
     "output_type": "execute_result"
    }
   ],
   "source": [
    "fp = open('empdata.csv', 'r')\n",
    "data = csv.DictReader(fp)\n",
    "\n",
    "# Q: dept wise max salary\n",
    "hc = [] # hr\n",
    "fc = [] # fin\n",
    "mc = [] # mark\n",
    "for row in data:\n",
    "    dname = row.get('dept')\n",
    "    sal = row.get('sal')\n",
    "    if dname == 'hr':\n",
    "        hc.append(sal)\n",
    "    elif dname == 'fin':\n",
    "        fc.append(sal)\n",
    "    else:\n",
    "        mc.append(sal)\n",
    "fp.close()\n",
    "max(hc), max(fc), max(mc)"
   ]
  },
  {
   "cell_type": "markdown",
   "id": "3d6844cc-9ed7-4756-bbb3-9a64e50fe62a",
   "metadata": {},
   "source": [
    "All this is tough through CSV, but easy through PANDAS"
   ]
  },
  {
   "cell_type": "code",
   "execution_count": null,
   "id": "46f00f70-7a00-4d65-a068-fc9d0707dd02",
   "metadata": {},
   "outputs": [],
   "source": []
  }
 ],
 "metadata": {
  "kernelspec": {
   "display_name": "Python 3 (ipykernel)",
   "language": "python",
   "name": "python3"
  },
  "language_info": {
   "codemirror_mode": {
    "name": "ipython",
    "version": 3
   },
   "file_extension": ".py",
   "mimetype": "text/x-python",
   "name": "python",
   "nbconvert_exporter": "python",
   "pygments_lexer": "ipython3",
   "version": "3.11.7"
  }
 },
 "nbformat": 4,
 "nbformat_minor": 5
}
